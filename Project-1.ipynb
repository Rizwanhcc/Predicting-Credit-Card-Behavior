{
 "cells": [
  {
   "cell_type": "markdown",
   "metadata": {},
   "source": [
    "## Predicting Credit Card Behavior in United States using NFCS Data"
   ]
  },
  {
   "cell_type": "markdown",
   "metadata": {},
   "source": [
    "## Introduction and Background"
   ]
  },
  {
   "cell_type": "markdown",
   "metadata": {},
   "source": [
    "## Data Description\n"
   ]
  },
  {
   "cell_type": "markdown",
   "metadata": {},
   "source": [
    "This short paper will help to predict the credit card behavior based on demographic and household characteristics in the United States. Demographic indicators such as age, gender, marital status, financial literacy, education and profession along with household characteristics such as household income state and region of residence will be used to predict the credit card behavior. These variables play might play crucial role in determining the credit card behavior of any individual. This result of this analysis might be useful for banks and other financial institutions as well as for Government to devise credit policy in the different regions based on the credit card behavior of the population.\n"
   ]
  },
  {
   "cell_type": "markdown",
   "metadata": {},
   "source": [
    "## Problem Statement"
   ]
  },
  {
   "cell_type": "markdown",
   "metadata": {},
   "source": [
    "Individuals are different and exhibit diverse behaviors, however a general prediction model could be used to asses one's behavior. Global financial crisis of 2007-2008 is greatly considered as a result of subprime mortgage loans in the United States. In addition, a huge amount of credit card payments goes pending every month in the US. While credit card debt has increase around 32% in the last five years. Therefore, to avoid future banking crisis, it is important to devise a mechanism that can predict the credit card behavior of the potential user."
   ]
  },
  {
   "cell_type": "markdown",
   "metadata": {},
   "source": [
    "## Data Description"
   ]
  },
  {
   "cell_type": "markdown",
   "metadata": {},
   "source": [
    "In this research I will use an open source dataset 'The National Financial Capability Study' (NFCS) provided by FINRA. This dataset is a primary data collected from the US citizens with an interval of three years. The first round of survey was conducted in the year of 2009 following the Global financial turmoil. Later on, second round was conducted in 2012, third in 2015 and most recent survey was conducted in 2018. More detail of the dataset can be found [here](https://www.usfinancialcapability.org/) and can be downloaded [here](https://www.usfinancialcapability.org/downloads.php). This dataset includes a wide range of financial, demographic and professional indicators of American Citizens from all the regions and states."
   ]
  },
  {
   "cell_type": "code",
   "execution_count": 95,
   "metadata": {},
   "outputs": [],
   "source": [
    "##Importing libraries\n",
    "from sklearn.preprocessing import StandardScaler\n",
    "import matplotlib.pyplot as plt\n",
    "import pandas as pd\n",
    "import numpy as np\n",
    "\n",
    "%matplotlib inline"
   ]
  },
  {
   "cell_type": "code",
   "execution_count": 105,
   "metadata": {},
   "outputs": [],
   "source": [
    "#path ='/Users/rizwanmushtaq/Desktop/NFCS.csv'\n",
    "df = pd.read_csv('NFCS.csv', dtype= 'unicode', decimal=',')\n"
   ]
  },
  {
   "cell_type": "code",
   "execution_count": 106,
   "metadata": {},
   "outputs": [
    {
     "name": "stdout",
     "output_type": "stream",
     "text": [
      "(108310, 112)\n"
     ]
    }
   ],
   "source": [
    "#explore the number of columns and rows in the data\n",
    "print(df.shape)"
   ]
  },
  {
   "cell_type": "code",
   "execution_count": 107,
   "metadata": {},
   "outputs": [
    {
     "name": "stdout",
     "output_type": "stream",
     "text": [
      "  TRACK      NFCSID STATEQ CENSUSDIV CENSUSREG A3 A3Ar_w A3B A4A_new_w  \\\n",
      "0  2018  2018010001     48         9         4  2      5  11         1   \n",
      "1  2018  2018010002     10         5         3  2      2   8         1   \n",
      "2  2018  2018010003     44         7         3  2      2   8         1   \n",
      "3  2018  2018010004     10         5         3  2      1   7         1   \n",
      "4  2018  2018010005     13         8         4  1      2   2         1   \n",
      "\n",
      "  A5_2015  ... M21_4  M6  M7  M8 M31  M9 M10      wgt_n2      wgt_d2  \\\n",
      "0       5  ...         1   3  98  98  98   1  0.68368306  0.51964208   \n",
      "1       6  ...         1   3  98   3   1  98  0.80835753  2.51684077   \n",
      "2       6  ...         1   1  98  98   1  98  1.02155141  1.89619186   \n",
      "3       6  ...        98  98   4   4   2  98  0.80835753  2.51684077   \n",
      "4       6  ...         1   3  98   2   1  98   0.4480747  0.61473322   \n",
      "\n",
      "       wgt_s3  \n",
      "0  1.09518877  \n",
      "1  0.92269329  \n",
      "2  0.67109295  \n",
      "3  0.92269329  \n",
      "4  1.23222123  \n",
      "\n",
      "[5 rows x 112 columns]\n"
     ]
    }
   ],
   "source": [
    "print(df.head())"
   ]
  },
  {
   "cell_type": "code",
   "execution_count": 108,
   "metadata": {},
   "outputs": [],
   "source": [
    "#Renaming required columns\n",
    "df = df.rename(columns={'A3':'gender','A3Ar_w':'agegrp','A4A_new_w': 'ethn', 'A5_2015':'edu' , 'A6':'marital' ,  \n",
    "      'A8':'hhincome',  'AM31':'retired' , 'A9':'prof', 'A22_2015':'currentstudent', 'M6':'interest', 'M7':'inflation',  'M8':'bond', 'M31':'cinterest', 'M9':'mortgage', 'M10':'risk',\n",
    "     'J32':'creditrecord', 'G20':'unpaidbil'}, errors=\"raise\")"
   ]
  },
  {
   "cell_type": "code",
   "execution_count": 109,
   "metadata": {},
   "outputs": [
    {
     "data": {
      "text/html": [
       "<div>\n",
       "<style scoped>\n",
       "    .dataframe tbody tr th:only-of-type {\n",
       "        vertical-align: middle;\n",
       "    }\n",
       "\n",
       "    .dataframe tbody tr th {\n",
       "        vertical-align: top;\n",
       "    }\n",
       "\n",
       "    .dataframe thead th {\n",
       "        text-align: right;\n",
       "    }\n",
       "</style>\n",
       "<table border=\"1\" class=\"dataframe\">\n",
       "  <thead>\n",
       "    <tr style=\"text-align: right;\">\n",
       "      <th></th>\n",
       "      <th>TRACK</th>\n",
       "      <th>NFCSID</th>\n",
       "      <th>STATEQ</th>\n",
       "      <th>CENSUSDIV</th>\n",
       "      <th>CENSUSREG</th>\n",
       "      <th>gender</th>\n",
       "      <th>agegrp</th>\n",
       "      <th>A3B</th>\n",
       "      <th>ethn</th>\n",
       "      <th>edu</th>\n",
       "      <th>...</th>\n",
       "      <th>M21_4</th>\n",
       "      <th>interest</th>\n",
       "      <th>inflation</th>\n",
       "      <th>bond</th>\n",
       "      <th>cinterest</th>\n",
       "      <th>mortgage</th>\n",
       "      <th>risk</th>\n",
       "      <th>wgt_n2</th>\n",
       "      <th>wgt_d2</th>\n",
       "      <th>wgt_s3</th>\n",
       "    </tr>\n",
       "  </thead>\n",
       "  <tbody>\n",
       "    <tr>\n",
       "      <th>0</th>\n",
       "      <td>2018</td>\n",
       "      <td>2018010001</td>\n",
       "      <td>48</td>\n",
       "      <td>9</td>\n",
       "      <td>4</td>\n",
       "      <td>2</td>\n",
       "      <td>5</td>\n",
       "      <td>11</td>\n",
       "      <td>1</td>\n",
       "      <td>5</td>\n",
       "      <td>...</td>\n",
       "      <td></td>\n",
       "      <td>1</td>\n",
       "      <td>3</td>\n",
       "      <td>98</td>\n",
       "      <td>98</td>\n",
       "      <td>98</td>\n",
       "      <td>1</td>\n",
       "      <td>0.68368306</td>\n",
       "      <td>0.51964208</td>\n",
       "      <td>1.09518877</td>\n",
       "    </tr>\n",
       "    <tr>\n",
       "      <th>1</th>\n",
       "      <td>2018</td>\n",
       "      <td>2018010002</td>\n",
       "      <td>10</td>\n",
       "      <td>5</td>\n",
       "      <td>3</td>\n",
       "      <td>2</td>\n",
       "      <td>2</td>\n",
       "      <td>8</td>\n",
       "      <td>1</td>\n",
       "      <td>6</td>\n",
       "      <td>...</td>\n",
       "      <td></td>\n",
       "      <td>1</td>\n",
       "      <td>3</td>\n",
       "      <td>98</td>\n",
       "      <td>3</td>\n",
       "      <td>1</td>\n",
       "      <td>98</td>\n",
       "      <td>0.80835753</td>\n",
       "      <td>2.51684077</td>\n",
       "      <td>0.92269329</td>\n",
       "    </tr>\n",
       "    <tr>\n",
       "      <th>2</th>\n",
       "      <td>2018</td>\n",
       "      <td>2018010003</td>\n",
       "      <td>44</td>\n",
       "      <td>7</td>\n",
       "      <td>3</td>\n",
       "      <td>2</td>\n",
       "      <td>2</td>\n",
       "      <td>8</td>\n",
       "      <td>1</td>\n",
       "      <td>6</td>\n",
       "      <td>...</td>\n",
       "      <td></td>\n",
       "      <td>1</td>\n",
       "      <td>1</td>\n",
       "      <td>98</td>\n",
       "      <td>98</td>\n",
       "      <td>1</td>\n",
       "      <td>98</td>\n",
       "      <td>1.02155141</td>\n",
       "      <td>1.89619186</td>\n",
       "      <td>0.67109295</td>\n",
       "    </tr>\n",
       "    <tr>\n",
       "      <th>3</th>\n",
       "      <td>2018</td>\n",
       "      <td>2018010004</td>\n",
       "      <td>10</td>\n",
       "      <td>5</td>\n",
       "      <td>3</td>\n",
       "      <td>2</td>\n",
       "      <td>1</td>\n",
       "      <td>7</td>\n",
       "      <td>1</td>\n",
       "      <td>6</td>\n",
       "      <td>...</td>\n",
       "      <td></td>\n",
       "      <td>98</td>\n",
       "      <td>98</td>\n",
       "      <td>4</td>\n",
       "      <td>4</td>\n",
       "      <td>2</td>\n",
       "      <td>98</td>\n",
       "      <td>0.80835753</td>\n",
       "      <td>2.51684077</td>\n",
       "      <td>0.92269329</td>\n",
       "    </tr>\n",
       "    <tr>\n",
       "      <th>4</th>\n",
       "      <td>2018</td>\n",
       "      <td>2018010005</td>\n",
       "      <td>13</td>\n",
       "      <td>8</td>\n",
       "      <td>4</td>\n",
       "      <td>1</td>\n",
       "      <td>2</td>\n",
       "      <td>2</td>\n",
       "      <td>1</td>\n",
       "      <td>6</td>\n",
       "      <td>...</td>\n",
       "      <td></td>\n",
       "      <td>1</td>\n",
       "      <td>3</td>\n",
       "      <td>98</td>\n",
       "      <td>2</td>\n",
       "      <td>1</td>\n",
       "      <td>98</td>\n",
       "      <td>0.4480747</td>\n",
       "      <td>0.61473322</td>\n",
       "      <td>1.23222123</td>\n",
       "    </tr>\n",
       "  </tbody>\n",
       "</table>\n",
       "<p>5 rows × 112 columns</p>\n",
       "</div>"
      ],
      "text/plain": [
       "  TRACK      NFCSID STATEQ CENSUSDIV CENSUSREG gender agegrp A3B ethn edu  \\\n",
       "0  2018  2018010001     48         9         4      2      5  11    1   5   \n",
       "1  2018  2018010002     10         5         3      2      2   8    1   6   \n",
       "2  2018  2018010003     44         7         3      2      2   8    1   6   \n",
       "3  2018  2018010004     10         5         3      2      1   7    1   6   \n",
       "4  2018  2018010005     13         8         4      1      2   2    1   6   \n",
       "\n",
       "   ... M21_4 interest inflation bond cinterest mortgage risk      wgt_n2  \\\n",
       "0  ...              1         3   98        98       98    1  0.68368306   \n",
       "1  ...              1         3   98         3        1   98  0.80835753   \n",
       "2  ...              1         1   98        98        1   98  1.02155141   \n",
       "3  ...             98        98    4         4        2   98  0.80835753   \n",
       "4  ...              1         3   98         2        1   98   0.4480747   \n",
       "\n",
       "       wgt_d2      wgt_s3  \n",
       "0  0.51964208  1.09518877  \n",
       "1  2.51684077  0.92269329  \n",
       "2  1.89619186  0.67109295  \n",
       "3  2.51684077  0.92269329  \n",
       "4  0.61473322  1.23222123  \n",
       "\n",
       "[5 rows x 112 columns]"
      ]
     },
     "execution_count": 109,
     "metadata": {},
     "output_type": "execute_result"
    }
   ],
   "source": [
    "df.head()"
   ]
  },
  {
   "cell_type": "code",
   "execution_count": 110,
   "metadata": {},
   "outputs": [],
   "source": [
    "#Selecting required columns\n",
    "df = df[['gender', 'agegrp', 'ethn', 'edu' , 'marital', 'hhincome', 'retired', 'prof', \n",
    "         'currentstudent', 'creditrecord', 'unpaidbil' ]]"
   ]
  },
  {
   "cell_type": "code",
   "execution_count": 111,
   "metadata": {},
   "outputs": [
    {
     "data": {
      "text/html": [
       "<div>\n",
       "<style scoped>\n",
       "    .dataframe tbody tr th:only-of-type {\n",
       "        vertical-align: middle;\n",
       "    }\n",
       "\n",
       "    .dataframe tbody tr th {\n",
       "        vertical-align: top;\n",
       "    }\n",
       "\n",
       "    .dataframe thead th {\n",
       "        text-align: right;\n",
       "    }\n",
       "</style>\n",
       "<table border=\"1\" class=\"dataframe\">\n",
       "  <thead>\n",
       "    <tr style=\"text-align: right;\">\n",
       "      <th></th>\n",
       "      <th>gender</th>\n",
       "      <th>agegrp</th>\n",
       "      <th>ethn</th>\n",
       "      <th>edu</th>\n",
       "      <th>marital</th>\n",
       "      <th>hhincome</th>\n",
       "      <th>retired</th>\n",
       "      <th>prof</th>\n",
       "      <th>currentstudent</th>\n",
       "      <th>creditrecord</th>\n",
       "      <th>unpaidbil</th>\n",
       "    </tr>\n",
       "  </thead>\n",
       "  <tbody>\n",
       "    <tr>\n",
       "      <th>0</th>\n",
       "      <td>2</td>\n",
       "      <td>5</td>\n",
       "      <td>1</td>\n",
       "      <td>5</td>\n",
       "      <td>4</td>\n",
       "      <td>1</td>\n",
       "      <td></td>\n",
       "      <td>6</td>\n",
       "      <td></td>\n",
       "      <td>1</td>\n",
       "      <td>2</td>\n",
       "    </tr>\n",
       "    <tr>\n",
       "      <th>1</th>\n",
       "      <td>2</td>\n",
       "      <td>2</td>\n",
       "      <td>1</td>\n",
       "      <td>6</td>\n",
       "      <td>1</td>\n",
       "      <td>5</td>\n",
       "      <td></td>\n",
       "      <td>2</td>\n",
       "      <td></td>\n",
       "      <td>4</td>\n",
       "      <td>2</td>\n",
       "    </tr>\n",
       "    <tr>\n",
       "      <th>2</th>\n",
       "      <td>2</td>\n",
       "      <td>2</td>\n",
       "      <td>1</td>\n",
       "      <td>6</td>\n",
       "      <td>1</td>\n",
       "      <td>4</td>\n",
       "      <td></td>\n",
       "      <td>2</td>\n",
       "      <td></td>\n",
       "      <td>2</td>\n",
       "      <td>2</td>\n",
       "    </tr>\n",
       "    <tr>\n",
       "      <th>3</th>\n",
       "      <td>2</td>\n",
       "      <td>1</td>\n",
       "      <td>1</td>\n",
       "      <td>6</td>\n",
       "      <td>2</td>\n",
       "      <td>5</td>\n",
       "      <td></td>\n",
       "      <td>2</td>\n",
       "      <td></td>\n",
       "      <td>4</td>\n",
       "      <td>2</td>\n",
       "    </tr>\n",
       "    <tr>\n",
       "      <th>4</th>\n",
       "      <td>1</td>\n",
       "      <td>2</td>\n",
       "      <td>1</td>\n",
       "      <td>6</td>\n",
       "      <td>1</td>\n",
       "      <td>3</td>\n",
       "      <td></td>\n",
       "      <td>2</td>\n",
       "      <td></td>\n",
       "      <td>5</td>\n",
       "      <td>2</td>\n",
       "    </tr>\n",
       "  </tbody>\n",
       "</table>\n",
       "</div>"
      ],
      "text/plain": [
       "  gender agegrp ethn edu marital hhincome retired prof currentstudent  \\\n",
       "0      2      5    1   5       4        1            6                  \n",
       "1      2      2    1   6       1        5            2                  \n",
       "2      2      2    1   6       1        4            2                  \n",
       "3      2      1    1   6       2        5            2                  \n",
       "4      1      2    1   6       1        3            2                  \n",
       "\n",
       "  creditrecord unpaidbil  \n",
       "0            1         2  \n",
       "1            4         2  \n",
       "2            2         2  \n",
       "3            4         2  \n",
       "4            5         2  "
      ]
     },
     "execution_count": 111,
     "metadata": {},
     "output_type": "execute_result"
    }
   ],
   "source": [
    "df.head()"
   ]
  },
  {
   "cell_type": "code",
   "execution_count": 112,
   "metadata": {},
   "outputs": [],
   "source": [
    "##Replacing 99 and 98 with nan\n",
    "df = df.replace('99', np.nan)\n",
    "df = df.replace('98', np.nan)"
   ]
  },
  {
   "cell_type": "code",
   "execution_count": 113,
   "metadata": {},
   "outputs": [
    {
     "data": {
      "text/html": [
       "<div>\n",
       "<style scoped>\n",
       "    .dataframe tbody tr th:only-of-type {\n",
       "        vertical-align: middle;\n",
       "    }\n",
       "\n",
       "    .dataframe tbody tr th {\n",
       "        vertical-align: top;\n",
       "    }\n",
       "\n",
       "    .dataframe thead th {\n",
       "        text-align: right;\n",
       "    }\n",
       "</style>\n",
       "<table border=\"1\" class=\"dataframe\">\n",
       "  <thead>\n",
       "    <tr style=\"text-align: right;\">\n",
       "      <th></th>\n",
       "      <th>gender</th>\n",
       "      <th>agegrp</th>\n",
       "      <th>ethn</th>\n",
       "      <th>edu</th>\n",
       "      <th>marital</th>\n",
       "      <th>hhincome</th>\n",
       "      <th>retired</th>\n",
       "      <th>prof</th>\n",
       "      <th>currentstudent</th>\n",
       "      <th>creditrecord</th>\n",
       "      <th>unpaidbil</th>\n",
       "    </tr>\n",
       "  </thead>\n",
       "  <tbody>\n",
       "    <tr>\n",
       "      <th>0</th>\n",
       "      <td>2</td>\n",
       "      <td>5</td>\n",
       "      <td>1</td>\n",
       "      <td>5</td>\n",
       "      <td>4</td>\n",
       "      <td>1</td>\n",
       "      <td></td>\n",
       "      <td>6</td>\n",
       "      <td></td>\n",
       "      <td>1</td>\n",
       "      <td>2</td>\n",
       "    </tr>\n",
       "    <tr>\n",
       "      <th>1</th>\n",
       "      <td>2</td>\n",
       "      <td>2</td>\n",
       "      <td>1</td>\n",
       "      <td>6</td>\n",
       "      <td>1</td>\n",
       "      <td>5</td>\n",
       "      <td></td>\n",
       "      <td>2</td>\n",
       "      <td></td>\n",
       "      <td>4</td>\n",
       "      <td>2</td>\n",
       "    </tr>\n",
       "    <tr>\n",
       "      <th>2</th>\n",
       "      <td>2</td>\n",
       "      <td>2</td>\n",
       "      <td>1</td>\n",
       "      <td>6</td>\n",
       "      <td>1</td>\n",
       "      <td>4</td>\n",
       "      <td></td>\n",
       "      <td>2</td>\n",
       "      <td></td>\n",
       "      <td>2</td>\n",
       "      <td>2</td>\n",
       "    </tr>\n",
       "    <tr>\n",
       "      <th>3</th>\n",
       "      <td>2</td>\n",
       "      <td>1</td>\n",
       "      <td>1</td>\n",
       "      <td>6</td>\n",
       "      <td>2</td>\n",
       "      <td>5</td>\n",
       "      <td></td>\n",
       "      <td>2</td>\n",
       "      <td></td>\n",
       "      <td>4</td>\n",
       "      <td>2</td>\n",
       "    </tr>\n",
       "    <tr>\n",
       "      <th>4</th>\n",
       "      <td>1</td>\n",
       "      <td>2</td>\n",
       "      <td>1</td>\n",
       "      <td>6</td>\n",
       "      <td>1</td>\n",
       "      <td>3</td>\n",
       "      <td></td>\n",
       "      <td>2</td>\n",
       "      <td></td>\n",
       "      <td>5</td>\n",
       "      <td>2</td>\n",
       "    </tr>\n",
       "  </tbody>\n",
       "</table>\n",
       "</div>"
      ],
      "text/plain": [
       "  gender agegrp ethn edu marital hhincome retired prof currentstudent  \\\n",
       "0      2      5    1   5       4        1            6                  \n",
       "1      2      2    1   6       1        5            2                  \n",
       "2      2      2    1   6       1        4            2                  \n",
       "3      2      1    1   6       2        5            2                  \n",
       "4      1      2    1   6       1        3            2                  \n",
       "\n",
       "  creditrecord unpaidbil  \n",
       "0            1         2  \n",
       "1            4         2  \n",
       "2            2         2  \n",
       "3            4         2  \n",
       "4            5         2  "
      ]
     },
     "execution_count": 113,
     "metadata": {},
     "output_type": "execute_result"
    }
   ],
   "source": [
    "df.head()"
   ]
  },
  {
   "cell_type": "code",
   "execution_count": 114,
   "metadata": {},
   "outputs": [
    {
     "data": {
      "text/plain": [
       "gender            0.000000\n",
       "agegrp            0.000000\n",
       "ethn              0.000000\n",
       "edu               0.000000\n",
       "marital           0.000000\n",
       "hhincome          0.000000\n",
       "retired           0.000720\n",
       "prof              0.000000\n",
       "currentstudent    0.000499\n",
       "creditrecord      0.027532\n",
       "unpaidbil         0.019056\n",
       "dtype: float64"
      ]
     },
     "execution_count": 114,
     "metadata": {},
     "output_type": "execute_result"
    }
   ],
   "source": [
    "#To see whether there are missing values in the data\n",
    "#df.isnull().sum()\n",
    "df.isnull().sum()/len(df)"
   ]
  },
  {
   "cell_type": "code",
   "execution_count": 115,
   "metadata": {},
   "outputs": [],
   "source": [
    "#Delete nans\n",
    "rows_before = df.shape[0]\n",
    "df = df.dropna()\n",
    "rows_after = df.shape[0]"
   ]
  },
  {
   "cell_type": "code",
   "execution_count": 116,
   "metadata": {},
   "outputs": [
    {
     "data": {
      "text/plain": [
       "4768"
      ]
     },
     "execution_count": 116,
     "metadata": {},
     "output_type": "execute_result"
    }
   ],
   "source": [
    "rows_before - rows_after"
   ]
  },
  {
   "cell_type": "code",
   "execution_count": 117,
   "metadata": {},
   "outputs": [
    {
     "data": {
      "text/plain": [
       "gender            0\n",
       "agegrp            0\n",
       "ethn              0\n",
       "edu               0\n",
       "marital           0\n",
       "hhincome          0\n",
       "retired           0\n",
       "prof              0\n",
       "currentstudent    0\n",
       "creditrecord      0\n",
       "unpaidbil         0\n",
       "dtype: int64"
      ]
     },
     "execution_count": 117,
     "metadata": {},
     "output_type": "execute_result"
    }
   ],
   "source": [
    "#check again for missing values\n",
    "df.isnull().sum()"
   ]
  },
  {
   "cell_type": "code",
   "execution_count": 118,
   "metadata": {},
   "outputs": [
    {
     "data": {
      "text/plain": [
       "(103542, 11)"
      ]
     },
     "execution_count": 118,
     "metadata": {},
     "output_type": "execute_result"
    }
   ],
   "source": [
    "#tak a look again on your data\n",
    "df.shape"
   ]
  },
  {
   "cell_type": "markdown",
   "metadata": {},
   "source": [
    "## Computing Target variable\n",
    "\n",
    "Target variable is credit record on a scale of 1-5, let's convert it to a binary variable"
   ]
  },
  {
   "cell_type": "code",
   "execution_count": 119,
   "metadata": {},
   "outputs": [
    {
     "data": {
      "text/plain": [
       "count     103542\n",
       "unique         6\n",
       "top             \n",
       "freq       53030\n",
       "Name: creditrecord, dtype: object"
      ]
     },
     "execution_count": 119,
     "metadata": {},
     "output_type": "execute_result"
    }
   ],
   "source": [
    "df['creditrecord'].describe()"
   ]
  },
  {
   "cell_type": "code",
   "execution_count": 120,
   "metadata": {},
   "outputs": [],
   "source": [
    "df['credit'] = pd.to_numeric(df['creditrecord'], errors='coerce').fillna(0).astype(int)"
   ]
  },
  {
   "cell_type": "code",
   "execution_count": 121,
   "metadata": {},
   "outputs": [
    {
     "data": {
      "text/plain": [
       "count    103542.000000\n",
       "mean          1.923558\n",
       "std           2.148894\n",
       "min           0.000000\n",
       "25%           0.000000\n",
       "50%           0.000000\n",
       "75%           4.000000\n",
       "max           5.000000\n",
       "Name: credit, dtype: float64"
      ]
     },
     "execution_count": 121,
     "metadata": {},
     "output_type": "execute_result"
    }
   ],
   "source": [
    "df['credit'].describe()"
   ]
  },
  {
   "cell_type": "code",
   "execution_count": 122,
   "metadata": {},
   "outputs": [],
   "source": [
    "df['credit_bin'] = df['credit'].apply(lambda x: 1 if x >= 2 else 0)"
   ]
  },
  {
   "cell_type": "code",
   "execution_count": 123,
   "metadata": {},
   "outputs": [
    {
     "data": {
      "text/plain": [
       "0    55133\n",
       "1    48409\n",
       "Name: credit_bin, dtype: int64"
      ]
     },
     "execution_count": 123,
     "metadata": {},
     "output_type": "execute_result"
    }
   ],
   "source": [
    "df['credit_bin'].value_counts()"
   ]
  },
  {
   "cell_type": "code",
   "execution_count": 124,
   "metadata": {},
   "outputs": [],
   "source": [
    "y = df['credit_bin']"
   ]
  },
  {
   "cell_type": "markdown",
   "metadata": {},
   "source": [
    "## Feature engineering"
   ]
  },
  {
   "cell_type": "code",
   "execution_count": 134,
   "metadata": {},
   "outputs": [],
   "source": [
    "df['gender'] = pd.to_numeric(df['gender'], errors='coerce').fillna(0).astype(int)\n",
    "df['agegrp'] = pd.to_numeric(df['agegrp'], errors='coerce').fillna(0).astype(int)\n",
    "df['ethn']   = pd.to_numeric(df['ethn'], errors='coerce').fillna(0).astype(int)\n",
    "df['edu']    = pd.to_numeric(df['edu'], errors='coerce').fillna(0).astype(int)\n",
    "df['marital'] = pd.to_numeric(df['marital'], errors='coerce').fillna(0).astype(int)\n",
    "df['hhincome'] = pd.to_numeric(df['hhincome'], errors='coerce').fillna(0).astype(int)\n",
    "df['retired'] = pd.to_numeric(df['retired'], errors='coerce').fillna(0).astype(int)\n",
    "df['prof']    = pd.to_numeric(df['prof'], errors='coerce').fillna(0).astype(int)\n",
    "df['currentstudent'] = pd.to_numeric(df['currentstudent'], errors='coerce').fillna(0).astype(int)\n",
    "df['unpaidbil'] = pd.to_numeric(df['unpaidbil'], errors='coerce').fillna(0).astype(int)"
   ]
  },
  {
   "cell_type": "code",
   "execution_count": 140,
   "metadata": {},
   "outputs": [],
   "source": [
    "##computing features\n",
    "Features = df[['gender', 'agegrp', 'ethn', 'edu' , 'marital', 'hhincome', 'retired', 'prof', \n",
    "         'currentstudent', 'unpaidbil']]"
   ]
  },
  {
   "cell_type": "code",
   "execution_count": 141,
   "metadata": {},
   "outputs": [
    {
     "data": {
      "text/plain": [
       "gender            160247\n",
       "agegrp            385185\n",
       "ethn              130218\n",
       "edu               229519\n",
       "marital           187576\n",
       "hhincome          456331\n",
       "retired            10317\n",
       "prof              415763\n",
       "currentstudent      5499\n",
       "unpaidbil         133228\n",
       "dtype: int64"
      ]
     },
     "execution_count": 141,
     "metadata": {},
     "output_type": "execute_result"
    }
   ],
   "source": [
    "Features.sum()"
   ]
  },
  {
   "cell_type": "code",
   "execution_count": 143,
   "metadata": {},
   "outputs": [],
   "source": [
    "#data = np.genfromtxt(Features, dtype=float, delimiter=',', names=True)"
   ]
  },
  {
   "cell_type": "code",
   "execution_count": 144,
   "metadata": {},
   "outputs": [
    {
     "data": {
      "text/plain": [
       "array([[ 0.90883252,  0.79800063, -0.58910568, ...,  0.78819913,\n",
       "        -0.16997002,  0.82464965],\n",
       "       [ 0.90883252, -1.07243697, -0.58910568, ..., -0.80043509,\n",
       "        -0.16997002,  0.82464965],\n",
       "       [ 0.90883252, -1.07243697, -0.58910568, ..., -0.80043509,\n",
       "        -0.16997002,  0.82464965],\n",
       "       ...,\n",
       "       [-1.10031274, -1.69591617, -0.58910568, ...,  1.18535769,\n",
       "        -0.16997002, -1.48757615],\n",
       "       [-1.10031274, -1.69591617,  1.69748829, ..., -0.80043509,\n",
       "        -0.16997002, -1.48757615],\n",
       "       [ 0.90883252,  1.42147982, -0.58910568, ..., -0.00611798,\n",
       "        -0.16997002, -1.48757615]])"
      ]
     },
     "execution_count": 144,
     "metadata": {},
     "output_type": "execute_result"
    }
   ],
   "source": [
    "X = StandardScaler().fit(Features).transform(Features)\n",
    "X"
   ]
  },
  {
   "cell_type": "markdown",
   "metadata": {},
   "source": [
    "## Predicting Credit Card Behavior"
   ]
  },
  {
   "cell_type": "markdown",
   "metadata": {},
   "source": [
    "### Logistics Regrression (Supervised Machine Learning)"
   ]
  },
  {
   "cell_type": "code",
   "execution_count": 145,
   "metadata": {},
   "outputs": [],
   "source": [
    "from sklearn.model_selection import train_test_split\n",
    "X_train, X_test, y_train, y_test = train_test_split(X, y, test_size=0.2, random_state=0)"
   ]
  },
  {
   "cell_type": "markdown",
   "metadata": {},
   "source": [
    "#### Create a Model and Train It\n",
    "\n",
    "The below statement creates an instance of LogisticRegression and binds its references to the variable model. LogisticRegression has several optional parameters that define the behavior of the model and approach:\n",
    "\n"
   ]
  },
  {
   "cell_type": "code",
   "execution_count": 146,
   "metadata": {},
   "outputs": [],
   "source": [
    "from sklearn.linear_model import LogisticRegression\n",
    "model = LogisticRegression(solver='liblinear', random_state=0)\n"
   ]
  },
  {
   "cell_type": "code",
   "execution_count": 147,
   "metadata": {},
   "outputs": [
    {
     "data": {
      "text/plain": [
       "LogisticRegression(random_state=0, solver='liblinear')"
      ]
     },
     "execution_count": 147,
     "metadata": {},
     "output_type": "execute_result"
    }
   ],
   "source": [
    "model.fit(X, y)\n"
   ]
  },
  {
   "cell_type": "markdown",
   "metadata": {},
   "source": [
    "### You can use the fact that .fit() returns the model instance and chain the last two statements. They are equivalent to the following line of code:"
   ]
  },
  {
   "cell_type": "code",
   "execution_count": 148,
   "metadata": {},
   "outputs": [],
   "source": [
    "model = LogisticRegression(solver='liblinear', random_state=0).fit(X, y)\n"
   ]
  },
  {
   "cell_type": "markdown",
   "metadata": {},
   "source": [
    "At this point, you have the classification model defined.\n",
    "\n",
    "You can quickly get the attributes of your model. For example, the attribute .classes_ represents the array of distinct values that y takes:\n",
    "\n"
   ]
  },
  {
   "cell_type": "code",
   "execution_count": 149,
   "metadata": {},
   "outputs": [
    {
     "data": {
      "text/plain": [
       "array([0, 1])"
      ]
     },
     "execution_count": 149,
     "metadata": {},
     "output_type": "execute_result"
    }
   ],
   "source": [
    "model.classes_"
   ]
  },
  {
   "cell_type": "markdown",
   "metadata": {},
   "source": [
    "This is the example of binary classification, and y can be 0 or 1, as indicated above.\n",
    "\n",
    "You can also get the value of the slope 𝑏₁ and the intercept 𝑏₀ of the linear function 𝑓 like so:"
   ]
  },
  {
   "cell_type": "code",
   "execution_count": 150,
   "metadata": {},
   "outputs": [
    {
     "data": {
      "text/plain": [
       "array([[ 0.10979643,  0.08190986, -0.12603054,  4.44118813, -0.10821668,\n",
       "        -0.15163344,  0.21818022,  0.07707768,  0.09924447,  1.1561754 ]])"
      ]
     },
     "execution_count": 150,
     "metadata": {},
     "output_type": "execute_result"
    }
   ],
   "source": [
    "model.intercept_\n",
    "model.coef_"
   ]
  },
  {
   "cell_type": "markdown",
   "metadata": {},
   "source": [
    "### Evaluate the Model\n",
    "Once a model is defined, you can check its performance with .predict_proba(), which returns the matrix of probabilities that the predicted output is equal to zero or one:"
   ]
  },
  {
   "cell_type": "code",
   "execution_count": 152,
   "metadata": {},
   "outputs": [
    {
     "data": {
      "text/plain": [
       "array([[1.45725231e-03, 9.98542748e-01],\n",
       "       [3.46250883e-04, 9.99653749e-01],\n",
       "       [3.21633850e-04, 9.99678366e-01],\n",
       "       ...,\n",
       "       [9.94323126e-01, 5.67687435e-03],\n",
       "       [9.96061966e-01, 3.93803360e-03],\n",
       "       [9.91534738e-01, 8.46526176e-03]])"
      ]
     },
     "execution_count": 152,
     "metadata": {},
     "output_type": "execute_result"
    }
   ],
   "source": [
    "model.predict_proba(X)"
   ]
  },
  {
   "cell_type": "markdown",
   "metadata": {},
   "source": [
    "In the matrix above, each row corresponds to a single observation. The first column is the probability of the predicted output being zero, that is 1 - 𝑝(𝑥). The second column is the probability that the output is one, or 𝑝(𝑥).\n",
    "\n",
    "We can get the actual predictions, based on the probability matrix and the values of 𝑝(𝑥), with .predict():"
   ]
  },
  {
   "cell_type": "code",
   "execution_count": 158,
   "metadata": {},
   "outputs": [],
   "source": [
    "y_pred = model.predict(X)"
   ]
  },
  {
   "cell_type": "code",
   "execution_count": 154,
   "metadata": {},
   "outputs": [
    {
     "data": {
      "text/plain": [
       "0.9617836240366229"
      ]
     },
     "execution_count": 154,
     "metadata": {},
     "output_type": "execute_result"
    }
   ],
   "source": [
    "model.score(X, y)"
   ]
  },
  {
   "cell_type": "markdown",
   "metadata": {},
   "source": [
    ".score() takes the input and output as arguments and returns the ratio of the number of correct predictions to the number of observations.\n",
    "\n",
    "You can get more information on the accuracy of the model with a confusion matrix. In the case of binary classification, the confusion matrix shows the numbers of the following:\n",
    "\n",
    "To create the confusion matrix, you can use confusion_matrix() and provide the actual and predicted outputs as the arguments:"
   ]
  },
  {
   "cell_type": "code",
   "execution_count": 156,
   "metadata": {},
   "outputs": [
    {
     "data": {
      "text/plain": [
       "array([[53375,  1758],\n",
       "       [ 2199, 46210]])"
      ]
     },
     "execution_count": 156,
     "metadata": {},
     "output_type": "execute_result"
    }
   ],
   "source": [
    "from sklearn.metrics import classification_report, confusion_matrix\n",
    "\n",
    "confusion_matrix(y, model.predict(X))"
   ]
  },
  {
   "cell_type": "markdown",
   "metadata": {},
   "source": [
    "\n",
    "**True negatives** in the upper-left position\n",
    "\n",
    "**False negatives** in the lower-left position\n",
    "\n",
    "**False positives** in the upper-right position\n",
    "\n",
    "**True positives** in the lower-right position\n",
    "\n",
    "The obtained matrix shows the following:\n",
    "\n",
    "53375 true negative predictions: The first 53375 observations are zeros predicted correctly.\n",
    "\n",
    "2199 false negative predictions: These are the ones wrongly predicted as zeros.\n",
    "\n",
    "1758 false positive predictions: The observations are a zero that was wrongly predicted as one.\n",
    "\n",
    "46210 true positive predictions: The last 46210 observations are ones predicted correctly.\n"
   ]
  },
  {
   "cell_type": "markdown",
   "metadata": {},
   "source": [
    "## Plot Confusion Matrix\n",
    "\n",
    "It’s often useful to visualize the confusion matrix. You can do that with .imshow() from Matplotlib, which accepts the confusion matrix as the argument:\n",
    "\n"
   ]
  },
  {
   "cell_type": "code",
   "execution_count": 163,
   "metadata": {},
   "outputs": [
    {
     "data": {
      "image/png": "[encoded data removed]",
      "text/plain": [
       "<Figure size 576x576 with 1 Axes>"
      ]
     },
     "metadata": {
      "needs_background": "light"
     },
     "output_type": "display_data"
    }
   ],
   "source": [
    "cm = confusion_matrix(y, model.predict(X))\n",
    "\n",
    "fig, ax = plt.subplots(figsize=(8, 8))\n",
    "ax.imshow(cm)\n",
    "ax.grid(False)\n",
    "ax.xaxis.set(ticks=(0, 1), ticklabels=('Predicted 0s', 'Predicted 1s'))\n",
    "ax.yaxis.set(ticks=(0, 1), ticklabels=('Actual 0s', 'Actual 1s'))\n",
    "ax.set_ylim(1.5, -0.5)\n",
    "for i in range(2):\n",
    "    for j in range(2):\n",
    "        ax.text(j, i, cm[i, j], ha='center', va='center', color='red')\n",
    "plt.show()"
   ]
  },
  {
   "cell_type": "markdown",
   "metadata": {},
   "source": [
    "In this figure, different colors represent different numbers and similar colors represent similar numbers. Heatmaps are a nice and convenient way to represent a matrix. To learn more about them, check out the Matplotlib documentation on Creating Annotated Heatmaps and .imshow().\n",
    "\n",
    "To learn more about confusion matrix and logitc regression check out the [link](https://realpython.com/logistic-regression-python/#logistic-regression-in-python-with-scikit-learn-example-2)\n"
   ]
  },
  {
   "cell_type": "markdown",
   "metadata": {},
   "source": [
    "We can get a more comprehensive report on the classification with classification_report():"
   ]
  },
  {
   "cell_type": "code",
   "execution_count": 159,
   "metadata": {},
   "outputs": [],
   "source": [
    "report = classification_report(y, y_pred)"
   ]
  },
  {
   "cell_type": "code",
   "execution_count": 161,
   "metadata": {},
   "outputs": [
    {
     "name": "stdout",
     "output_type": "stream",
     "text": [
      "              precision    recall  f1-score   support\n",
      "\n",
      "           0       0.96      0.97      0.96     55133\n",
      "           1       0.96      0.95      0.96     48409\n",
      "\n",
      "    accuracy                           0.96    103542\n",
      "   macro avg       0.96      0.96      0.96    103542\n",
      "weighted avg       0.96      0.96      0.96    103542\n",
      "\n"
     ]
    }
   ],
   "source": [
    "#results = model.fit()\n",
    "#print(results.summary())\n",
    "\n",
    "print(report)"
   ]
  },
  {
   "cell_type": "code",
   "execution_count": null,
   "metadata": {},
   "outputs": [],
   "source": []
  }
 ],
 "metadata": {
  "kernelspec": {
   "display_name": "Python 3.8.3 64-bit",
   "language": "python",
   "name": "python38364bitc570e726e62d4bce9d8172250984dd88"
  },
  "language_info": {
   "codemirror_mode": {
    "name": "ipython",
    "version": 3
   },
   "file_extension": ".py",
   "mimetype": "text/x-python",
   "name": "python",
   "nbconvert_exporter": "python",
   "pygments_lexer": "ipython3",
   "version": "3.8.5"
  }
 },
 "nbformat": 4,
 "nbformat_minor": 4
}
